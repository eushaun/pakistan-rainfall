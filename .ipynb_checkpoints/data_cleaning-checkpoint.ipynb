{
 "cells": [
  {
   "cell_type": "code",
   "execution_count": 3,
   "metadata": {},
   "outputs": [],
   "source": [
    "from datetime import datetime\n",
    "import pandas as pd\n",
    "import numpy as np\n",
    "import glob"
   ]
  },
  {
   "cell_type": "markdown",
   "metadata": {
    "heading_collapsed": true
   },
   "source": [
    "## Station\n"
   ]
  },
  {
   "cell_type": "code",
   "execution_count": 4,
   "metadata": {
    "hidden": true
   },
   "outputs": [
    {
     "data": {
      "text/html": [
       "<div>\n",
       "<style scoped>\n",
       "    .dataframe tbody tr th:only-of-type {\n",
       "        vertical-align: middle;\n",
       "    }\n",
       "\n",
       "    .dataframe tbody tr th {\n",
       "        vertical-align: top;\n",
       "    }\n",
       "\n",
       "    .dataframe thead th {\n",
       "        text-align: right;\n",
       "    }\n",
       "</style>\n",
       "<table border=\"1\" class=\"dataframe\">\n",
       "  <thead>\n",
       "    <tr style=\"text-align: right;\">\n",
       "      <th></th>\n",
       "      <th>STATNO</th>\n",
       "      <th>LAT</th>\n",
       "      <th>LONG</th>\n",
       "      <th>ABVSEALVL</th>\n",
       "      <th>STATNAME</th>\n",
       "    </tr>\n",
       "  </thead>\n",
       "  <tbody>\n",
       "    <tr>\n",
       "      <th>0</th>\n",
       "      <td>41504</td>\n",
       "      <td>73.40</td>\n",
       "      <td>35.17</td>\n",
       "      <td>2156.0</td>\n",
       "      <td>Gupis</td>\n",
       "    </tr>\n",
       "    <tr>\n",
       "      <th>1</th>\n",
       "      <td>41505</td>\n",
       "      <td>74.65</td>\n",
       "      <td>36.17</td>\n",
       "      <td>2374.0</td>\n",
       "      <td>Hunza</td>\n",
       "    </tr>\n",
       "    <tr>\n",
       "      <th>2</th>\n",
       "      <td>41506</td>\n",
       "      <td>71.83</td>\n",
       "      <td>35.85</td>\n",
       "      <td>1497.8</td>\n",
       "      <td>Chitral</td>\n",
       "    </tr>\n",
       "    <tr>\n",
       "      <th>3</th>\n",
       "      <td>41507</td>\n",
       "      <td>71.82</td>\n",
       "      <td>34.83</td>\n",
       "      <td>786.0</td>\n",
       "      <td>Timergara M.O.</td>\n",
       "    </tr>\n",
       "    <tr>\n",
       "      <th>4</th>\n",
       "      <td>41508</td>\n",
       "      <td>71.85</td>\n",
       "      <td>35.20</td>\n",
       "      <td>1375.0</td>\n",
       "      <td>Dir</td>\n",
       "    </tr>\n",
       "    <tr>\n",
       "      <th>5</th>\n",
       "      <td>41509</td>\n",
       "      <td>71.70</td>\n",
       "      <td>35.50</td>\n",
       "      <td>1250.0</td>\n",
       "      <td>Mir Khani</td>\n",
       "    </tr>\n",
       "    <tr>\n",
       "      <th>6</th>\n",
       "      <td>41510</td>\n",
       "      <td>72.98</td>\n",
       "      <td>35.83</td>\n",
       "      <td>2123.0</td>\n",
       "      <td>Kalam</td>\n",
       "    </tr>\n",
       "    <tr>\n",
       "      <th>7</th>\n",
       "      <td>41515</td>\n",
       "      <td>71.78</td>\n",
       "      <td>35.57</td>\n",
       "      <td>1463.9</td>\n",
       "      <td>Drosh</td>\n",
       "    </tr>\n",
       "    <tr>\n",
       "      <th>8</th>\n",
       "      <td>41516</td>\n",
       "      <td>74.33</td>\n",
       "      <td>35.92</td>\n",
       "      <td>1460.0</td>\n",
       "      <td>Gilgit P.B.O.</td>\n",
       "    </tr>\n",
       "    <tr>\n",
       "      <th>9</th>\n",
       "      <td>41517</td>\n",
       "      <td>75.68</td>\n",
       "      <td>35.30</td>\n",
       "      <td>2317.0</td>\n",
       "      <td>Skardu P.B.O.</td>\n",
       "    </tr>\n",
       "    <tr>\n",
       "      <th>10</th>\n",
       "      <td>41518</td>\n",
       "      <td>74.63</td>\n",
       "      <td>35.67</td>\n",
       "      <td>1372.0</td>\n",
       "      <td>Bunji</td>\n",
       "    </tr>\n",
       "    <tr>\n",
       "      <th>11</th>\n",
       "      <td>41519</td>\n",
       "      <td>74.10</td>\n",
       "      <td>35.42</td>\n",
       "      <td>1250.0</td>\n",
       "      <td>Chilas</td>\n",
       "    </tr>\n",
       "    <tr>\n",
       "      <th>12</th>\n",
       "      <td>41520</td>\n",
       "      <td>74.90</td>\n",
       "      <td>35.33</td>\n",
       "      <td>2168.0</td>\n",
       "      <td>Astore</td>\n",
       "    </tr>\n",
       "    <tr>\n",
       "      <th>13</th>\n",
       "      <td>41523</td>\n",
       "      <td>72.35</td>\n",
       "      <td>34.73</td>\n",
       "      <td>961.0</td>\n",
       "      <td>Saidu Sharif M.O.</td>\n",
       "    </tr>\n",
       "    <tr>\n",
       "      <th>14</th>\n",
       "      <td>41524</td>\n",
       "      <td>73.00</td>\n",
       "      <td>35.10</td>\n",
       "      <td>752.0</td>\n",
       "      <td>Pattan</td>\n",
       "    </tr>\n",
       "    <tr>\n",
       "      <th>15</th>\n",
       "      <td>41525</td>\n",
       "      <td>72.90</td>\n",
       "      <td>34.75</td>\n",
       "      <td>2652.0</td>\n",
       "      <td>Malam Jabba</td>\n",
       "    </tr>\n",
       "    <tr>\n",
       "      <th>16</th>\n",
       "      <td>41529</td>\n",
       "      <td>71.93</td>\n",
       "      <td>34.03</td>\n",
       "      <td>327.0</td>\n",
       "      <td>Peshawar R.M.C. P.B.O.</td>\n",
       "    </tr>\n",
       "    <tr>\n",
       "      <th>17</th>\n",
       "      <td>41533</td>\n",
       "      <td>73.48</td>\n",
       "      <td>34.37</td>\n",
       "      <td>702.0</td>\n",
       "      <td>Muzaffarabad P.B.O.</td>\n",
       "    </tr>\n",
       "    <tr>\n",
       "      <th>18</th>\n",
       "      <td>41535</td>\n",
       "      <td>73.25</td>\n",
       "      <td>34.18</td>\n",
       "      <td>1308.0</td>\n",
       "      <td>Kakul (Abbottabad)</td>\n",
       "    </tr>\n",
       "    <tr>\n",
       "      <th>19</th>\n",
       "      <td>41536</td>\n",
       "      <td>72.35</td>\n",
       "      <td>34.55</td>\n",
       "      <td>995.4</td>\n",
       "      <td>Balakot</td>\n",
       "    </tr>\n",
       "  </tbody>\n",
       "</table>\n",
       "</div>"
      ],
      "text/plain": [
       "    STATNO    LAT   LONG  ABVSEALVL                 STATNAME\n",
       "0    41504  73.40  35.17     2156.0  Gupis                  \n",
       "1    41505  74.65  36.17     2374.0  Hunza                  \n",
       "2    41506  71.83  35.85     1497.8  Chitral                \n",
       "3    41507  71.82  34.83      786.0  Timergara M.O.         \n",
       "4    41508  71.85  35.20     1375.0  Dir                    \n",
       "5    41509  71.70  35.50     1250.0  Mir Khani              \n",
       "6    41510  72.98  35.83     2123.0  Kalam                  \n",
       "7    41515  71.78  35.57     1463.9  Drosh                  \n",
       "8    41516  74.33  35.92     1460.0  Gilgit P.B.O.          \n",
       "9    41517  75.68  35.30     2317.0  Skardu P.B.O.          \n",
       "10   41518  74.63  35.67     1372.0  Bunji                  \n",
       "11   41519  74.10  35.42     1250.0  Chilas                 \n",
       "12   41520  74.90  35.33     2168.0  Astore                 \n",
       "13   41523  72.35  34.73      961.0  Saidu Sharif M.O.      \n",
       "14   41524  73.00  35.10      752.0  Pattan                 \n",
       "15   41525  72.90  34.75     2652.0  Malam Jabba            \n",
       "16   41529  71.93  34.03      327.0  Peshawar R.M.C. P.B.O. \n",
       "17   41533  73.48  34.37      702.0  Muzaffarabad P.B.O.    \n",
       "18   41535  73.25  34.18     1308.0  Kakul (Abbottabad)     \n",
       "19   41536  72.35  34.55      995.4  Balakot                "
      ]
     },
     "execution_count": 4,
     "metadata": {},
     "output_type": "execute_result"
    }
   ],
   "source": [
    "# convert station data into csv file\n",
    "station = pd.read_csv('../pmd_data/Operational-WMO-sites-dictionary.dat', header=None,\n",
    "                      sep=' ', encoding='unicode_escape')\n",
    "station.columns = ['STATNO', 'LAT', 'LONG', 'ABVSEALVL', 'STATNAME', 'etc']\n",
    "station = station.drop(['etc'], axis=1)\n",
    "station.to_csv('station_codes.csv', index=False)\n",
    "station.head(20)"
   ]
  },
  {
   "cell_type": "markdown",
   "metadata": {},
   "source": [
    "## General Functions"
   ]
  },
  {
   "cell_type": "code",
   "execution_count": 150,
   "metadata": {},
   "outputs": [],
   "source": [
    "## function to shift rain observation back 3 hours\n",
    "def shift_rain(df):\n",
    "    ## Separating rainfall observation into another dataframe\n",
    "    rain = df[['TIME','RAIN2','RPeriod2']]\n",
    "    df.drop(['RAIN2','RPeriod2'], axis=1, inplace=True)\n",
    "\n",
    "    ## create new date range for every 3 hours\n",
    "    start = rain.TIME.min()\n",
    "    end = rain.TIME.max()\n",
    "    date_range = pd.date_range(start=start, end=end, freq='3H')\n",
    "    date_range = pd.to_datetime(date_range)\n",
    "\n",
    "    ## create new dataframe of just time and rain\n",
    "    new_df = pd.DataFrame(date_range, columns=['TIME'])\n",
    "    rain = pd.merge(new_df, rain[['TIME', 'RAIN2']], how='left', on='TIME')\n",
    "\n",
    "    ## shift rainfall values up one row\n",
    "    rain[['RAIN2']] = rain.RAIN2.shift(-1)\n",
    "    \n",
    "    ## merge rain back into original dataframe\n",
    "    df = pd.merge(rain, df, how='left', on='TIME')\n",
    "    \n",
    "    return df\n",
    "    \n",
    "## function to clean after shifting rainfall\n",
    "def clean_obs_after(df):\n",
    "    \n",
    "    ## remove columns where all values are null\n",
    "    df.dropna(axis=1, how='all', inplace = True)\n",
    "    \n",
    "    ## remove rows where the explanatory variables are null\n",
    "    ## this happens when we shift the rain observation to a time where no data was recorded\n",
    "    ## we would have only have the rain observation for that time and no variables to explain it\n",
    "    df.dropna(axis=0, subset=['STATNO'], inplace = True)\n",
    "    \n",
    "    ## classify rain to be 1 if heavy rain and 0 if not\n",
    "    df['RAIN'] = [1 if x >= 0 else 0 for x in df['RAIN2']] \n",
    "    df.drop(['STATNO'], axis = 1, inplace = True)\n",
    "    "
   ]
  },
  {
   "cell_type": "markdown",
   "metadata": {
    "heading_collapsed": true
   },
   "source": [
    "## Section 1\n",
    "We will first look at the dataset as a whole by combining all the stations."
   ]
  },
  {
   "cell_type": "code",
   "execution_count": 6,
   "metadata": {
    "hidden": true
   },
   "outputs": [
    {
     "name": "stdout",
     "output_type": "stream",
     "text": [
      "-9999.0    62930\n",
      " 12.0      23429\n",
      " 6.0       11279\n",
      " 18.0      10646\n",
      " 0.0          88\n",
      " 3.0          54\n",
      " 24.0          6\n",
      " 15.0          3\n",
      " 1.0           3\n",
      " 2.0           3\n",
      "Name: RPeriod1, dtype: int64\n",
      "\n",
      " 3.0       86606\n",
      "-9999.0    21648\n",
      " 0.0          88\n",
      " 12.0         32\n",
      " 6.0          31\n",
      " 18.0         16\n",
      " 15.0         11\n",
      " 2.0           4\n",
      " 1.0           3\n",
      " 9.0           1\n",
      " 24.0          1\n",
      "Name: RPeriod2, dtype: int64\n"
     ]
    }
   ],
   "source": [
    "df_all = pd.concat([pd.read_csv(f) for f in glob.glob(\"../pmd_data/*hour.csv\")], ignore_index = True)\n",
    "df_all.rename(columns={' RAIN 1  ': 'RAIN1', \n",
    "                       ' RAIN 2   ': 'RAIN2', \n",
    "                       'RPeriodi 1': 'RPeriod1', \n",
    "                       'RPeriod 2': 'RPeriod2', \n",
    "                       'TEMPERATR': 'TEMP'}, inplace = True)\n",
    "print(df_all.RPeriod1.value_counts())\n",
    "print('')\n",
    "print(df_all.RPeriod2.value_counts())"
   ]
  },
  {
   "cell_type": "markdown",
   "metadata": {
    "hidden": true
   },
   "source": [
    "Combining the observation dataset from all stations and after cleaning and analysing them shows that most of the observation in RAIN2 is from the last 3 hours, while RAIN1 values are mostly spread out between 6, 12 and 18 hours. Instead of finding a method to combine RAIN1 and RAIN2, we could just use RAIN2 with RPeriod2 of 3.0. But before we do that, we first need to check how many among the 84,894 observations are null."
   ]
  },
  {
   "cell_type": "code",
   "execution_count": 7,
   "metadata": {
    "hidden": true
   },
   "outputs": [
    {
     "name": "stdout",
     "output_type": "stream",
     "text": [
      "Frequency of null values:  4558 (86606, 21)\n",
      "Frequency of zero values:  77361\n"
     ]
    }
   ],
   "source": [
    "df_test = df_all[df_all.RPeriod2 == 3.0]\n",
    "print(\"Frequency of null values: \", (df_test.RAIN2 == -9999).sum(), df_test.shape)\n",
    "print(\"Frequency of zero values: \", (df_test.RAIN2 == 0).sum())"
   ]
  },
  {
   "cell_type": "markdown",
   "metadata": {
    "hidden": true
   },
   "source": [
    "There are 4,558 null observations out of 86,606 observations. Additionally, 77,361 observations are zero value, which is inline with the fact that rainfall is zero-inflated. Hence, to simplify the data wrangling process, we choose to only use the RAIN2 observation data with RPeriod2 of 3.0."
   ]
  },
  {
   "cell_type": "code",
   "execution_count": 8,
   "metadata": {
    "hidden": true
   },
   "outputs": [],
   "source": [
    "df_all.drop(['RAIN1', 'RPeriod1'], axis = 1, inplace = True)"
   ]
  },
  {
   "cell_type": "markdown",
   "metadata": {
    "heading_collapsed": true
   },
   "source": [
    "## Section 2\n",
    "Now we analyze only one station data and clean it."
   ]
  },
  {
   "cell_type": "code",
   "execution_count": 9,
   "metadata": {
    "hidden": true
   },
   "outputs": [
    {
     "data": {
      "text/html": [
       "<div>\n",
       "<style scoped>\n",
       "    .dataframe tbody tr th:only-of-type {\n",
       "        vertical-align: middle;\n",
       "    }\n",
       "\n",
       "    .dataframe tbody tr th {\n",
       "        vertical-align: top;\n",
       "    }\n",
       "\n",
       "    .dataframe thead th {\n",
       "        text-align: right;\n",
       "    }\n",
       "</style>\n",
       "<table border=\"1\" class=\"dataframe\">\n",
       "  <thead>\n",
       "    <tr style=\"text-align: right;\">\n",
       "      <th></th>\n",
       "      <th>RECDNO</th>\n",
       "      <th>STATNO</th>\n",
       "      <th>YYYY</th>\n",
       "      <th>MM</th>\n",
       "      <th>DD</th>\n",
       "      <th>HH</th>\n",
       "      <th>TEMPERATR</th>\n",
       "      <th>WET TEMP</th>\n",
       "      <th>DEWPOINT</th>\n",
       "      <th>RELHUMIDY</th>\n",
       "      <th>...</th>\n",
       "      <th>SURFPRESS</th>\n",
       "      <th>WINDSPEED</th>\n",
       "      <th>DIRECTION</th>\n",
       "      <th>RAIN 1</th>\n",
       "      <th>RAIN 2</th>\n",
       "      <th>RPeriodi 1</th>\n",
       "      <th>RPeriod 2</th>\n",
       "      <th>TLTCLOUD</th>\n",
       "      <th>LOW CLOUD</th>\n",
       "      <th>VISIBLITY</th>\n",
       "    </tr>\n",
       "  </thead>\n",
       "  <tbody>\n",
       "    <tr>\n",
       "      <th>0</th>\n",
       "      <td>2</td>\n",
       "      <td>41504</td>\n",
       "      <td>2019</td>\n",
       "      <td>1</td>\n",
       "      <td>1</td>\n",
       "      <td>0</td>\n",
       "      <td>-8.0</td>\n",
       "      <td>-9999.0</td>\n",
       "      <td>-11.6</td>\n",
       "      <td>72.68</td>\n",
       "      <td>...</td>\n",
       "      <td>-9999.0</td>\n",
       "      <td>0.0</td>\n",
       "      <td>0.0</td>\n",
       "      <td>0.0</td>\n",
       "      <td>0.0</td>\n",
       "      <td>12.0</td>\n",
       "      <td>3.0</td>\n",
       "      <td>0.0</td>\n",
       "      <td>-9999.0</td>\n",
       "      <td>2000.0</td>\n",
       "    </tr>\n",
       "    <tr>\n",
       "      <th>1</th>\n",
       "      <td>0</td>\n",
       "      <td>41504</td>\n",
       "      <td>0</td>\n",
       "      <td>0</td>\n",
       "      <td>0</td>\n",
       "      <td>0</td>\n",
       "      <td>0.0</td>\n",
       "      <td>0.0</td>\n",
       "      <td>0.0</td>\n",
       "      <td>0.00</td>\n",
       "      <td>...</td>\n",
       "      <td>0.0</td>\n",
       "      <td>0.0</td>\n",
       "      <td>0.0</td>\n",
       "      <td>0.0</td>\n",
       "      <td>0.0</td>\n",
       "      <td>0.0</td>\n",
       "      <td>0.0</td>\n",
       "      <td>0.0</td>\n",
       "      <td>0.0</td>\n",
       "      <td>0.0</td>\n",
       "    </tr>\n",
       "    <tr>\n",
       "      <th>2</th>\n",
       "      <td>0</td>\n",
       "      <td>41504</td>\n",
       "      <td>0</td>\n",
       "      <td>0</td>\n",
       "      <td>0</td>\n",
       "      <td>0</td>\n",
       "      <td>0.0</td>\n",
       "      <td>0.0</td>\n",
       "      <td>0.0</td>\n",
       "      <td>0.00</td>\n",
       "      <td>...</td>\n",
       "      <td>0.0</td>\n",
       "      <td>0.0</td>\n",
       "      <td>0.0</td>\n",
       "      <td>0.0</td>\n",
       "      <td>0.0</td>\n",
       "      <td>0.0</td>\n",
       "      <td>0.0</td>\n",
       "      <td>0.0</td>\n",
       "      <td>0.0</td>\n",
       "      <td>0.0</td>\n",
       "    </tr>\n",
       "    <tr>\n",
       "      <th>3</th>\n",
       "      <td>5</td>\n",
       "      <td>41504</td>\n",
       "      <td>2019</td>\n",
       "      <td>1</td>\n",
       "      <td>1</td>\n",
       "      <td>12</td>\n",
       "      <td>-9999.0</td>\n",
       "      <td>-9999.0</td>\n",
       "      <td>-9999.0</td>\n",
       "      <td>-9999.00</td>\n",
       "      <td>...</td>\n",
       "      <td>-9999.0</td>\n",
       "      <td>-9999.0</td>\n",
       "      <td>-9999.0</td>\n",
       "      <td>-9999.0</td>\n",
       "      <td>-9999.0</td>\n",
       "      <td>-9999.0</td>\n",
       "      <td>-9999.0</td>\n",
       "      <td>-9999.0</td>\n",
       "      <td>-9999.0</td>\n",
       "      <td>-9999.0</td>\n",
       "    </tr>\n",
       "    <tr>\n",
       "      <th>4</th>\n",
       "      <td>6</td>\n",
       "      <td>41504</td>\n",
       "      <td>2019</td>\n",
       "      <td>1</td>\n",
       "      <td>1</td>\n",
       "      <td>15</td>\n",
       "      <td>-9999.0</td>\n",
       "      <td>-9999.0</td>\n",
       "      <td>-9999.0</td>\n",
       "      <td>-9999.00</td>\n",
       "      <td>...</td>\n",
       "      <td>-9999.0</td>\n",
       "      <td>-9999.0</td>\n",
       "      <td>-9999.0</td>\n",
       "      <td>-9999.0</td>\n",
       "      <td>-9999.0</td>\n",
       "      <td>-9999.0</td>\n",
       "      <td>-9999.0</td>\n",
       "      <td>-9999.0</td>\n",
       "      <td>-9999.0</td>\n",
       "      <td>-9999.0</td>\n",
       "    </tr>\n",
       "  </tbody>\n",
       "</table>\n",
       "<p>5 rows × 21 columns</p>\n",
       "</div>"
      ],
      "text/plain": [
       "   RECDNO  STATNO  YYYY  MM  DD  HH  TEMPERATR  WET TEMP   DEWPOINT   \\\n",
       "0       2   41504  2019   1   1   0       -8.0    -9999.0      -11.6   \n",
       "1       0   41504     0   0   0   0        0.0        0.0        0.0   \n",
       "2       0   41504     0   0   0   0        0.0        0.0        0.0   \n",
       "3       5   41504  2019   1   1  12    -9999.0    -9999.0    -9999.0   \n",
       "4       6   41504  2019   1   1  15    -9999.0    -9999.0    -9999.0   \n",
       "\n",
       "   RELHUMIDY  ...  SURFPRESS  WINDSPEED  DIRECTION   RAIN 1     RAIN 2     \\\n",
       "0      72.68  ...    -9999.0        0.0        0.0        0.0         0.0   \n",
       "1       0.00  ...        0.0        0.0        0.0        0.0         0.0   \n",
       "2       0.00  ...        0.0        0.0        0.0        0.0         0.0   \n",
       "3   -9999.00  ...    -9999.0    -9999.0    -9999.0    -9999.0     -9999.0   \n",
       "4   -9999.00  ...    -9999.0    -9999.0    -9999.0    -9999.0     -9999.0   \n",
       "\n",
       "   RPeriodi 1  RPeriod 2  TLTCLOUD   LOW CLOUD  VISIBLITY  \n",
       "0        12.0        3.0        0.0    -9999.0     2000.0  \n",
       "1         0.0        0.0        0.0        0.0        0.0  \n",
       "2         0.0        0.0        0.0        0.0        0.0  \n",
       "3     -9999.0    -9999.0    -9999.0    -9999.0    -9999.0  \n",
       "4     -9999.0    -9999.0    -9999.0    -9999.0    -9999.0  \n",
       "\n",
       "[5 rows x 21 columns]"
      ]
     },
     "execution_count": 9,
     "metadata": {},
     "output_type": "execute_result"
    }
   ],
   "source": [
    "df = pd.read_csv('../pmd_data/OBS_n41504_hour.csv')\n",
    "df.head()"
   ]
  },
  {
   "cell_type": "markdown",
   "metadata": {
    "hidden": true
   },
   "source": [
    "We need to clean up the data by\n",
    "- renaming the columns\n",
    "- removing whitespaces from the columns\n",
    "- replace -9999 values with proper NaN values\n",
    "- remove any invalid date rows\n",
    "- remove any rows where all values are null\n",
    "- merge 'YYYY', 'MM', 'DD', 'HH' into a pandas datetime format for easier handling\n",
    "- using only RAIN2 as our target variable"
   ]
  },
  {
   "cell_type": "code",
   "execution_count": 102,
   "metadata": {
    "hidden": true
   },
   "outputs": [],
   "source": [
    "## function to clean observation dataset before shifting the rainfall 3 hours back\n",
    "def clean_obs_before(df):\n",
    "    \n",
    "    ## rename columns and remove whitespaces\n",
    "    df.rename(columns={' RAIN 1  ': 'RAIN1', \n",
    "                       ' RAIN 2   ': 'RAIN2', \n",
    "                       'RPeriodi 1': 'RPeriod1', \n",
    "                       'RPeriod 2': 'RPeriod2', \n",
    "                       'TEMPERATR': 'TEMP'}, inplace = True)\n",
    "    df.columns = df.columns.str.strip()\n",
    "\n",
    "    ## replace -9999 with NaN values\n",
    "    df.replace(-9999.0, np.nan, inplace = True)\n",
    "\n",
    "    ## remove rows where date is invalid\n",
    "    df.drop(df[(df.YYYY == 0) | (df.MM == 0) | (df.DD == 0)].index, inplace = True)\n",
    "    \n",
    "    ## remove rows where all values are null\n",
    "    df.dropna(axis=0, subset=['TEMP'], inplace = True)\n",
    "\n",
    "    ## convert date to datetime format\n",
    "    df['TIME'] = df['YYYY'].map(str) + '-' + df['MM'].map(str) + '-' + df['DD'].map(str) + ':' + df['HH'].map(str)\n",
    "    df['TIME'] = pd.to_datetime(df['TIME'], format = '%Y-%m-%d:%H')\n",
    "    df.drop(['YYYY','MM','DD','HH','RECDNO'], axis = 1, inplace = True)\n",
    "    \n",
    "    ## move time to the first column\n",
    "    cols = list(df.columns.values)\n",
    "    cols = cols[-1:] + cols[:-1]\n",
    "#     print(cols)\n",
    "    df = df.loc[:,cols]\n",
    "    \n",
    "    ## remove RAIN1 and RPeriod1 (explanation made below)\n",
    "    df.drop(['RAIN1', 'RPeriod1'], axis = 1, inplace = True)\n",
    "    \n",
    "    return df"
   ]
  },
  {
   "cell_type": "code",
   "execution_count": 11,
   "metadata": {
    "hidden": true
   },
   "outputs": [
    {
     "data": {
      "text/html": [
       "<div>\n",
       "<style scoped>\n",
       "    .dataframe tbody tr th:only-of-type {\n",
       "        vertical-align: middle;\n",
       "    }\n",
       "\n",
       "    .dataframe tbody tr th {\n",
       "        vertical-align: top;\n",
       "    }\n",
       "\n",
       "    .dataframe thead th {\n",
       "        text-align: right;\n",
       "    }\n",
       "</style>\n",
       "<table border=\"1\" class=\"dataframe\">\n",
       "  <thead>\n",
       "    <tr style=\"text-align: right;\">\n",
       "      <th></th>\n",
       "      <th>TIME</th>\n",
       "      <th>STATNO</th>\n",
       "      <th>TEMP</th>\n",
       "      <th>WET TEMP</th>\n",
       "      <th>DEWPOINT</th>\n",
       "      <th>RELHUMIDY</th>\n",
       "      <th>SEALVLPRS</th>\n",
       "      <th>SURFPRESS</th>\n",
       "      <th>WINDSPEED</th>\n",
       "      <th>DIRECTION</th>\n",
       "      <th>RAIN2</th>\n",
       "      <th>RPeriod2</th>\n",
       "      <th>TLTCLOUD</th>\n",
       "      <th>LOW CLOUD</th>\n",
       "      <th>VISIBLITY</th>\n",
       "    </tr>\n",
       "  </thead>\n",
       "  <tbody>\n",
       "    <tr>\n",
       "      <th>0</th>\n",
       "      <td>2019-01-01 00:00:00</td>\n",
       "      <td>41504</td>\n",
       "      <td>-8.0</td>\n",
       "      <td>NaN</td>\n",
       "      <td>-11.6</td>\n",
       "      <td>72.68</td>\n",
       "      <td>NaN</td>\n",
       "      <td>NaN</td>\n",
       "      <td>0.0</td>\n",
       "      <td>0.0</td>\n",
       "      <td>0.0</td>\n",
       "      <td>3.0</td>\n",
       "      <td>0.0</td>\n",
       "      <td>NaN</td>\n",
       "      <td>2000.0</td>\n",
       "    </tr>\n",
       "    <tr>\n",
       "      <th>8</th>\n",
       "      <td>2019-01-02 00:00:00</td>\n",
       "      <td>41504</td>\n",
       "      <td>-6.0</td>\n",
       "      <td>NaN</td>\n",
       "      <td>-13.2</td>\n",
       "      <td>52.87</td>\n",
       "      <td>NaN</td>\n",
       "      <td>NaN</td>\n",
       "      <td>1.0</td>\n",
       "      <td>230.0</td>\n",
       "      <td>NaN</td>\n",
       "      <td>3.0</td>\n",
       "      <td>100.0</td>\n",
       "      <td>NaN</td>\n",
       "      <td>2000.0</td>\n",
       "    </tr>\n",
       "    <tr>\n",
       "      <th>9</th>\n",
       "      <td>2019-01-02 03:00:00</td>\n",
       "      <td>41504</td>\n",
       "      <td>-4.5</td>\n",
       "      <td>NaN</td>\n",
       "      <td>-11.0</td>\n",
       "      <td>56.70</td>\n",
       "      <td>NaN</td>\n",
       "      <td>NaN</td>\n",
       "      <td>0.0</td>\n",
       "      <td>0.0</td>\n",
       "      <td>0.0</td>\n",
       "      <td>3.0</td>\n",
       "      <td>100.0</td>\n",
       "      <td>NaN</td>\n",
       "      <td>4000.0</td>\n",
       "    </tr>\n",
       "    <tr>\n",
       "      <th>11</th>\n",
       "      <td>2019-01-02 09:00:00</td>\n",
       "      <td>41504</td>\n",
       "      <td>5.0</td>\n",
       "      <td>NaN</td>\n",
       "      <td>-7.6</td>\n",
       "      <td>36.79</td>\n",
       "      <td>NaN</td>\n",
       "      <td>NaN</td>\n",
       "      <td>0.0</td>\n",
       "      <td>0.0</td>\n",
       "      <td>0.0</td>\n",
       "      <td>3.0</td>\n",
       "      <td>63.0</td>\n",
       "      <td>NaN</td>\n",
       "      <td>4000.0</td>\n",
       "    </tr>\n",
       "    <tr>\n",
       "      <th>12</th>\n",
       "      <td>2019-01-02 12:00:00</td>\n",
       "      <td>41504</td>\n",
       "      <td>2.0</td>\n",
       "      <td>NaN</td>\n",
       "      <td>-5.8</td>\n",
       "      <td>53.14</td>\n",
       "      <td>NaN</td>\n",
       "      <td>NaN</td>\n",
       "      <td>0.0</td>\n",
       "      <td>0.0</td>\n",
       "      <td>NaN</td>\n",
       "      <td>3.0</td>\n",
       "      <td>100.0</td>\n",
       "      <td>NaN</td>\n",
       "      <td>2000.0</td>\n",
       "    </tr>\n",
       "  </tbody>\n",
       "</table>\n",
       "</div>"
      ],
      "text/plain": [
       "                  TIME  STATNO  TEMP  WET TEMP   DEWPOINT   RELHUMIDY  \\\n",
       "0  2019-01-01 00:00:00   41504  -8.0        NaN      -11.6      72.68   \n",
       "8  2019-01-02 00:00:00   41504  -6.0        NaN      -13.2      52.87   \n",
       "9  2019-01-02 03:00:00   41504  -4.5        NaN      -11.0      56.70   \n",
       "11 2019-01-02 09:00:00   41504   5.0        NaN       -7.6      36.79   \n",
       "12 2019-01-02 12:00:00   41504   2.0        NaN       -5.8      53.14   \n",
       "\n",
       "    SEALVLPRS  SURFPRESS  WINDSPEED  DIRECTION  RAIN2  RPeriod2  TLTCLOUD   \\\n",
       "0         NaN        NaN        0.0        0.0    0.0       3.0        0.0   \n",
       "8         NaN        NaN        1.0      230.0    NaN       3.0      100.0   \n",
       "9         NaN        NaN        0.0        0.0    0.0       3.0      100.0   \n",
       "11        NaN        NaN        0.0        0.0    0.0       3.0       63.0   \n",
       "12        NaN        NaN        0.0        0.0    NaN       3.0      100.0   \n",
       "\n",
       "    LOW CLOUD  VISIBLITY  \n",
       "0         NaN     2000.0  \n",
       "8         NaN     2000.0  \n",
       "9         NaN     4000.0  \n",
       "11        NaN     4000.0  \n",
       "12        NaN     2000.0  "
      ]
     },
     "execution_count": 11,
     "metadata": {},
     "output_type": "execute_result"
    }
   ],
   "source": [
    "df = clean_obs_before(df)\n",
    "df.head(5)"
   ]
  },
  {
   "cell_type": "markdown",
   "metadata": {
    "hidden": true
   },
   "source": [
    "The current rainfall values that we have now are observations for the last 3 hours while the explanatory variables are values at the specific time. Essentially, we would be using be using our data at a given time to predict rainfall for the past 3 hours from that time. Hence, we need to shift the rainfall values back by 3 hours so that we are using the current data to predict rainfall for the next 3 hours."
   ]
  },
  {
   "cell_type": "code",
   "execution_count": 12,
   "metadata": {
    "hidden": true
   },
   "outputs": [
    {
     "data": {
      "text/html": [
       "<div>\n",
       "<style scoped>\n",
       "    .dataframe tbody tr th:only-of-type {\n",
       "        vertical-align: middle;\n",
       "    }\n",
       "\n",
       "    .dataframe tbody tr th {\n",
       "        vertical-align: top;\n",
       "    }\n",
       "\n",
       "    .dataframe thead th {\n",
       "        text-align: right;\n",
       "    }\n",
       "</style>\n",
       "<table border=\"1\" class=\"dataframe\">\n",
       "  <thead>\n",
       "    <tr style=\"text-align: right;\">\n",
       "      <th></th>\n",
       "      <th>TIME</th>\n",
       "      <th>RAIN2</th>\n",
       "      <th>RPeriod2</th>\n",
       "    </tr>\n",
       "  </thead>\n",
       "  <tbody>\n",
       "    <tr>\n",
       "      <th>0</th>\n",
       "      <td>2019-01-01 00:00:00</td>\n",
       "      <td>0.0</td>\n",
       "      <td>3.0</td>\n",
       "    </tr>\n",
       "    <tr>\n",
       "      <th>8</th>\n",
       "      <td>2019-01-02 00:00:00</td>\n",
       "      <td>NaN</td>\n",
       "      <td>3.0</td>\n",
       "    </tr>\n",
       "    <tr>\n",
       "      <th>9</th>\n",
       "      <td>2019-01-02 03:00:00</td>\n",
       "      <td>0.0</td>\n",
       "      <td>3.0</td>\n",
       "    </tr>\n",
       "    <tr>\n",
       "      <th>11</th>\n",
       "      <td>2019-01-02 09:00:00</td>\n",
       "      <td>0.0</td>\n",
       "      <td>3.0</td>\n",
       "    </tr>\n",
       "    <tr>\n",
       "      <th>12</th>\n",
       "      <td>2019-01-02 12:00:00</td>\n",
       "      <td>NaN</td>\n",
       "      <td>3.0</td>\n",
       "    </tr>\n",
       "  </tbody>\n",
       "</table>\n",
       "</div>"
      ],
      "text/plain": [
       "                  TIME  RAIN2  RPeriod2\n",
       "0  2019-01-01 00:00:00    0.0       3.0\n",
       "8  2019-01-02 00:00:00    NaN       3.0\n",
       "9  2019-01-02 03:00:00    0.0       3.0\n",
       "11 2019-01-02 09:00:00    0.0       3.0\n",
       "12 2019-01-02 12:00:00    NaN       3.0"
      ]
     },
     "execution_count": 12,
     "metadata": {},
     "output_type": "execute_result"
    }
   ],
   "source": [
    "## Separating rainfall observation into another dataframe\n",
    "rain = df[['TIME','RAIN2','RPeriod2']]\n",
    "df.drop(['RAIN2','RPeriod2'], axis=1, inplace=True)\n",
    "rain.head()"
   ]
  },
  {
   "cell_type": "code",
   "execution_count": 13,
   "metadata": {
    "hidden": true
   },
   "outputs": [
    {
     "data": {
      "text/html": [
       "<div>\n",
       "<style scoped>\n",
       "    .dataframe tbody tr th:only-of-type {\n",
       "        vertical-align: middle;\n",
       "    }\n",
       "\n",
       "    .dataframe tbody tr th {\n",
       "        vertical-align: top;\n",
       "    }\n",
       "\n",
       "    .dataframe thead th {\n",
       "        text-align: right;\n",
       "    }\n",
       "</style>\n",
       "<table border=\"1\" class=\"dataframe\">\n",
       "  <thead>\n",
       "    <tr style=\"text-align: right;\">\n",
       "      <th></th>\n",
       "      <th>TIME</th>\n",
       "      <th>RAIN2</th>\n",
       "    </tr>\n",
       "  </thead>\n",
       "  <tbody>\n",
       "    <tr>\n",
       "      <th>0</th>\n",
       "      <td>2019-01-01 00:00:00</td>\n",
       "      <td>NaN</td>\n",
       "    </tr>\n",
       "    <tr>\n",
       "      <th>1</th>\n",
       "      <td>2019-01-01 03:00:00</td>\n",
       "      <td>NaN</td>\n",
       "    </tr>\n",
       "    <tr>\n",
       "      <th>2</th>\n",
       "      <td>2019-01-01 06:00:00</td>\n",
       "      <td>NaN</td>\n",
       "    </tr>\n",
       "    <tr>\n",
       "      <th>3</th>\n",
       "      <td>2019-01-01 09:00:00</td>\n",
       "      <td>NaN</td>\n",
       "    </tr>\n",
       "    <tr>\n",
       "      <th>4</th>\n",
       "      <td>2019-01-01 12:00:00</td>\n",
       "      <td>NaN</td>\n",
       "    </tr>\n",
       "  </tbody>\n",
       "</table>\n",
       "</div>"
      ],
      "text/plain": [
       "                 TIME  RAIN2\n",
       "0 2019-01-01 00:00:00    NaN\n",
       "1 2019-01-01 03:00:00    NaN\n",
       "2 2019-01-01 06:00:00    NaN\n",
       "3 2019-01-01 09:00:00    NaN\n",
       "4 2019-01-01 12:00:00    NaN"
      ]
     },
     "execution_count": 13,
     "metadata": {},
     "output_type": "execute_result"
    }
   ],
   "source": [
    "## create new date range for every 3 hours\n",
    "start = rain.TIME.min()\n",
    "end = rain.TIME.max()\n",
    "date_range = pd.date_range(start=start, end=end, freq='3H')\n",
    "date_range = pd.to_datetime(date_range)\n",
    "\n",
    "## create new dataframe of just time and rain\n",
    "new_df = pd.DataFrame(date_range, columns=['TIME'])\n",
    "rain = pd.merge(new_df, rain[['TIME', 'RAIN2']], how='left', on='TIME')\n",
    "\n",
    "## shift rainfall values up one row\n",
    "rain[['RAIN2']] = rain.RAIN2.shift(-1)\n",
    "rain.head()"
   ]
  },
  {
   "cell_type": "markdown",
   "metadata": {
    "hidden": true
   },
   "source": [
    "Now that we have the rain observation at their correct time stamps, we merge it back into the original dataset."
   ]
  },
  {
   "cell_type": "code",
   "execution_count": 14,
   "metadata": {
    "hidden": true
   },
   "outputs": [
    {
     "data": {
      "text/html": [
       "<div>\n",
       "<style scoped>\n",
       "    .dataframe tbody tr th:only-of-type {\n",
       "        vertical-align: middle;\n",
       "    }\n",
       "\n",
       "    .dataframe tbody tr th {\n",
       "        vertical-align: top;\n",
       "    }\n",
       "\n",
       "    .dataframe thead th {\n",
       "        text-align: right;\n",
       "    }\n",
       "</style>\n",
       "<table border=\"1\" class=\"dataframe\">\n",
       "  <thead>\n",
       "    <tr style=\"text-align: right;\">\n",
       "      <th></th>\n",
       "      <th>TIME</th>\n",
       "      <th>RAIN2</th>\n",
       "      <th>STATNO</th>\n",
       "      <th>TEMP</th>\n",
       "      <th>WET TEMP</th>\n",
       "      <th>DEWPOINT</th>\n",
       "      <th>RELHUMIDY</th>\n",
       "      <th>SEALVLPRS</th>\n",
       "      <th>SURFPRESS</th>\n",
       "      <th>WINDSPEED</th>\n",
       "      <th>DIRECTION</th>\n",
       "      <th>TLTCLOUD</th>\n",
       "      <th>LOW CLOUD</th>\n",
       "      <th>VISIBLITY</th>\n",
       "    </tr>\n",
       "  </thead>\n",
       "  <tbody>\n",
       "    <tr>\n",
       "      <th>0</th>\n",
       "      <td>2019-01-01 00:00:00</td>\n",
       "      <td>NaN</td>\n",
       "      <td>41504.0</td>\n",
       "      <td>-8.0</td>\n",
       "      <td>NaN</td>\n",
       "      <td>-11.6</td>\n",
       "      <td>72.68</td>\n",
       "      <td>NaN</td>\n",
       "      <td>NaN</td>\n",
       "      <td>0.0</td>\n",
       "      <td>0.0</td>\n",
       "      <td>0.0</td>\n",
       "      <td>NaN</td>\n",
       "      <td>2000.0</td>\n",
       "    </tr>\n",
       "    <tr>\n",
       "      <th>1</th>\n",
       "      <td>2019-01-01 03:00:00</td>\n",
       "      <td>NaN</td>\n",
       "      <td>NaN</td>\n",
       "      <td>NaN</td>\n",
       "      <td>NaN</td>\n",
       "      <td>NaN</td>\n",
       "      <td>NaN</td>\n",
       "      <td>NaN</td>\n",
       "      <td>NaN</td>\n",
       "      <td>NaN</td>\n",
       "      <td>NaN</td>\n",
       "      <td>NaN</td>\n",
       "      <td>NaN</td>\n",
       "      <td>NaN</td>\n",
       "    </tr>\n",
       "    <tr>\n",
       "      <th>2</th>\n",
       "      <td>2019-01-01 06:00:00</td>\n",
       "      <td>NaN</td>\n",
       "      <td>NaN</td>\n",
       "      <td>NaN</td>\n",
       "      <td>NaN</td>\n",
       "      <td>NaN</td>\n",
       "      <td>NaN</td>\n",
       "      <td>NaN</td>\n",
       "      <td>NaN</td>\n",
       "      <td>NaN</td>\n",
       "      <td>NaN</td>\n",
       "      <td>NaN</td>\n",
       "      <td>NaN</td>\n",
       "      <td>NaN</td>\n",
       "    </tr>\n",
       "    <tr>\n",
       "      <th>3</th>\n",
       "      <td>2019-01-01 09:00:00</td>\n",
       "      <td>NaN</td>\n",
       "      <td>NaN</td>\n",
       "      <td>NaN</td>\n",
       "      <td>NaN</td>\n",
       "      <td>NaN</td>\n",
       "      <td>NaN</td>\n",
       "      <td>NaN</td>\n",
       "      <td>NaN</td>\n",
       "      <td>NaN</td>\n",
       "      <td>NaN</td>\n",
       "      <td>NaN</td>\n",
       "      <td>NaN</td>\n",
       "      <td>NaN</td>\n",
       "    </tr>\n",
       "    <tr>\n",
       "      <th>4</th>\n",
       "      <td>2019-01-01 12:00:00</td>\n",
       "      <td>NaN</td>\n",
       "      <td>NaN</td>\n",
       "      <td>NaN</td>\n",
       "      <td>NaN</td>\n",
       "      <td>NaN</td>\n",
       "      <td>NaN</td>\n",
       "      <td>NaN</td>\n",
       "      <td>NaN</td>\n",
       "      <td>NaN</td>\n",
       "      <td>NaN</td>\n",
       "      <td>NaN</td>\n",
       "      <td>NaN</td>\n",
       "      <td>NaN</td>\n",
       "    </tr>\n",
       "  </tbody>\n",
       "</table>\n",
       "</div>"
      ],
      "text/plain": [
       "                 TIME  RAIN2   STATNO  TEMP  WET TEMP   DEWPOINT   RELHUMIDY  \\\n",
       "0 2019-01-01 00:00:00    NaN  41504.0  -8.0        NaN      -11.6      72.68   \n",
       "1 2019-01-01 03:00:00    NaN      NaN   NaN        NaN        NaN        NaN   \n",
       "2 2019-01-01 06:00:00    NaN      NaN   NaN        NaN        NaN        NaN   \n",
       "3 2019-01-01 09:00:00    NaN      NaN   NaN        NaN        NaN        NaN   \n",
       "4 2019-01-01 12:00:00    NaN      NaN   NaN        NaN        NaN        NaN   \n",
       "\n",
       "   SEALVLPRS  SURFPRESS  WINDSPEED  DIRECTION  TLTCLOUD   LOW CLOUD  VISIBLITY  \n",
       "0        NaN        NaN        0.0        0.0        0.0        NaN     2000.0  \n",
       "1        NaN        NaN        NaN        NaN        NaN        NaN        NaN  \n",
       "2        NaN        NaN        NaN        NaN        NaN        NaN        NaN  \n",
       "3        NaN        NaN        NaN        NaN        NaN        NaN        NaN  \n",
       "4        NaN        NaN        NaN        NaN        NaN        NaN        NaN  "
      ]
     },
     "execution_count": 14,
     "metadata": {},
     "output_type": "execute_result"
    }
   ],
   "source": [
    "## merge rain back into original dataframe\n",
    "df2 = pd.merge(rain, df, how='left', on='TIME')\n",
    "df2.head()"
   ]
  },
  {
   "cell_type": "markdown",
   "metadata": {
    "hidden": true
   },
   "source": [
    "Plotting rain againt time shows that rainfall for this particular station is not very occurent. We may need to look at other stations that has frequent rain."
   ]
  },
  {
   "cell_type": "code",
   "execution_count": 15,
   "metadata": {
    "hidden": true
   },
   "outputs": [
    {
     "data": {
      "text/plain": [
       "Text(0, 0.5, 'Rainfall')"
      ]
     },
     "execution_count": 15,
     "metadata": {},
     "output_type": "execute_result"
    },
    {
     "data": {
      "image/png": "[encoded data removed]",
      "text/plain": [
       "<Figure size 432x288 with 1 Axes>"
      ]
     },
     "metadata": {},
     "output_type": "display_data"
    }
   ],
   "source": [
    "## plotting rainfall against time\n",
    "%matplotlib inline\n",
    "import matplotlib.pyplot as plt\n",
    "import seaborn; seaborn.set()\n",
    "\n",
    "rain.plot(x='TIME', y='RAIN2', style='.')\n",
    "plt.ylabel('Rainfall')"
   ]
  },
  {
   "cell_type": "markdown",
   "metadata": {
    "hidden": true
   },
   "source": [
    "We now remove rows where the explanatory variables are null. This happens when we shift the rain observation to a time where no data was recorded as we would only have the rain observation for that time and no variables to explain it.  \n",
    "\n",
    "We also need to remove the columns that are all null as they do not provide any information."
   ]
  },
  {
   "cell_type": "code",
   "execution_count": 16,
   "metadata": {
    "hidden": true
   },
   "outputs": [],
   "source": [
    "df2.dropna(axis=0, subset=['STATNO'], inplace = True)\n",
    "df2.dropna(axis=1, how='all', inplace = True)"
   ]
  },
  {
   "cell_type": "code",
   "execution_count": 17,
   "metadata": {
    "hidden": true
   },
   "outputs": [
    {
     "name": "stdout",
     "output_type": "stream",
     "text": [
      "341\n",
      "(683, 10)\n"
     ]
    }
   ],
   "source": [
    "print(df2.RAIN2.isnull().sum())\n",
    "print(df2.shape)"
   ]
  },
  {
   "cell_type": "code",
   "execution_count": 18,
   "metadata": {
    "hidden": true
   },
   "outputs": [
    {
     "data": {
      "text/html": [
       "<div>\n",
       "<style scoped>\n",
       "    .dataframe tbody tr th:only-of-type {\n",
       "        vertical-align: middle;\n",
       "    }\n",
       "\n",
       "    .dataframe tbody tr th {\n",
       "        vertical-align: top;\n",
       "    }\n",
       "\n",
       "    .dataframe thead th {\n",
       "        text-align: right;\n",
       "    }\n",
       "</style>\n",
       "<table border=\"1\" class=\"dataframe\">\n",
       "  <thead>\n",
       "    <tr style=\"text-align: right;\">\n",
       "      <th></th>\n",
       "      <th>TIME</th>\n",
       "      <th>RAIN2</th>\n",
       "      <th>STATNO</th>\n",
       "      <th>TEMP</th>\n",
       "      <th>DEWPOINT</th>\n",
       "      <th>RELHUMIDY</th>\n",
       "      <th>WINDSPEED</th>\n",
       "      <th>DIRECTION</th>\n",
       "      <th>TLTCLOUD</th>\n",
       "      <th>VISIBLITY</th>\n",
       "    </tr>\n",
       "  </thead>\n",
       "  <tbody>\n",
       "    <tr>\n",
       "      <th>0</th>\n",
       "      <td>2019-01-01 00:00:00</td>\n",
       "      <td>NaN</td>\n",
       "      <td>41504.0</td>\n",
       "      <td>-8.0</td>\n",
       "      <td>-11.6</td>\n",
       "      <td>72.68</td>\n",
       "      <td>0.0</td>\n",
       "      <td>0.0</td>\n",
       "      <td>0.0</td>\n",
       "      <td>2000.0</td>\n",
       "    </tr>\n",
       "    <tr>\n",
       "      <th>8</th>\n",
       "      <td>2019-01-02 00:00:00</td>\n",
       "      <td>0.0</td>\n",
       "      <td>41504.0</td>\n",
       "      <td>-6.0</td>\n",
       "      <td>-13.2</td>\n",
       "      <td>52.87</td>\n",
       "      <td>1.0</td>\n",
       "      <td>230.0</td>\n",
       "      <td>100.0</td>\n",
       "      <td>2000.0</td>\n",
       "    </tr>\n",
       "    <tr>\n",
       "      <th>9</th>\n",
       "      <td>2019-01-02 03:00:00</td>\n",
       "      <td>NaN</td>\n",
       "      <td>41504.0</td>\n",
       "      <td>-4.5</td>\n",
       "      <td>-11.0</td>\n",
       "      <td>56.70</td>\n",
       "      <td>0.0</td>\n",
       "      <td>0.0</td>\n",
       "      <td>100.0</td>\n",
       "      <td>4000.0</td>\n",
       "    </tr>\n",
       "    <tr>\n",
       "      <th>11</th>\n",
       "      <td>2019-01-02 09:00:00</td>\n",
       "      <td>NaN</td>\n",
       "      <td>41504.0</td>\n",
       "      <td>5.0</td>\n",
       "      <td>-7.6</td>\n",
       "      <td>36.79</td>\n",
       "      <td>0.0</td>\n",
       "      <td>0.0</td>\n",
       "      <td>63.0</td>\n",
       "      <td>4000.0</td>\n",
       "    </tr>\n",
       "    <tr>\n",
       "      <th>12</th>\n",
       "      <td>2019-01-02 12:00:00</td>\n",
       "      <td>0.0</td>\n",
       "      <td>41504.0</td>\n",
       "      <td>2.0</td>\n",
       "      <td>-5.8</td>\n",
       "      <td>53.14</td>\n",
       "      <td>0.0</td>\n",
       "      <td>0.0</td>\n",
       "      <td>100.0</td>\n",
       "      <td>2000.0</td>\n",
       "    </tr>\n",
       "  </tbody>\n",
       "</table>\n",
       "</div>"
      ],
      "text/plain": [
       "                  TIME  RAIN2   STATNO  TEMP  DEWPOINT   RELHUMIDY  WINDSPEED  \\\n",
       "0  2019-01-01 00:00:00    NaN  41504.0  -8.0      -11.6      72.68        0.0   \n",
       "8  2019-01-02 00:00:00    0.0  41504.0  -6.0      -13.2      52.87        1.0   \n",
       "9  2019-01-02 03:00:00    NaN  41504.0  -4.5      -11.0      56.70        0.0   \n",
       "11 2019-01-02 09:00:00    NaN  41504.0   5.0       -7.6      36.79        0.0   \n",
       "12 2019-01-02 12:00:00    0.0  41504.0   2.0       -5.8      53.14        0.0   \n",
       "\n",
       "    DIRECTION  TLTCLOUD   VISIBLITY  \n",
       "0         0.0        0.0     2000.0  \n",
       "8       230.0      100.0     2000.0  \n",
       "9         0.0      100.0     4000.0  \n",
       "11        0.0       63.0     4000.0  \n",
       "12        0.0      100.0     2000.0  "
      ]
     },
     "execution_count": 18,
     "metadata": {},
     "output_type": "execute_result"
    }
   ],
   "source": [
    "df2.head()"
   ]
  },
  {
   "cell_type": "markdown",
   "metadata": {
    "hidden": true
   },
   "source": [
    "Next, we will classify rainfall into two categories, \"decent amount of rainfall\" and \"little to no rainfall\". According to US Geological Survey (https://water.usgs.gov/edu/activity-howmuchrain-metric.html), we define any rainfall above moderate intensity to be greater than 0.5 mm per hour, which for our dataset is equivalent to 1.5 mm per 3 hours.  \n",
    "\n",
    "We also classify any null rain values to be under \"little to no rain\". Our justification for that is since rainfall has a zero-inflated distribution, the probability of there being no rain is very high, thus by classifying it as \"little to no rain\" there is a low chance of having false information in our data."
   ]
  },
  {
   "cell_type": "code",
   "execution_count": 19,
   "metadata": {
    "hidden": true
   },
   "outputs": [
    {
     "data": {
      "text/html": [
       "<div>\n",
       "<style scoped>\n",
       "    .dataframe tbody tr th:only-of-type {\n",
       "        vertical-align: middle;\n",
       "    }\n",
       "\n",
       "    .dataframe tbody tr th {\n",
       "        vertical-align: top;\n",
       "    }\n",
       "\n",
       "    .dataframe thead th {\n",
       "        text-align: right;\n",
       "    }\n",
       "</style>\n",
       "<table border=\"1\" class=\"dataframe\">\n",
       "  <thead>\n",
       "    <tr style=\"text-align: right;\">\n",
       "      <th></th>\n",
       "      <th>TIME</th>\n",
       "      <th>STATNO</th>\n",
       "      <th>TEMP</th>\n",
       "      <th>DEWPOINT</th>\n",
       "      <th>RELHUMIDY</th>\n",
       "      <th>WINDSPEED</th>\n",
       "      <th>DIRECTION</th>\n",
       "      <th>TLTCLOUD</th>\n",
       "      <th>VISIBLITY</th>\n",
       "      <th>RAIN</th>\n",
       "    </tr>\n",
       "  </thead>\n",
       "  <tbody>\n",
       "    <tr>\n",
       "      <th>0</th>\n",
       "      <td>2019-01-01 00:00:00</td>\n",
       "      <td>41504.0</td>\n",
       "      <td>-8.0</td>\n",
       "      <td>-11.6</td>\n",
       "      <td>72.68</td>\n",
       "      <td>0.0</td>\n",
       "      <td>0.0</td>\n",
       "      <td>0.0</td>\n",
       "      <td>2000.0</td>\n",
       "      <td>0</td>\n",
       "    </tr>\n",
       "    <tr>\n",
       "      <th>8</th>\n",
       "      <td>2019-01-02 00:00:00</td>\n",
       "      <td>41504.0</td>\n",
       "      <td>-6.0</td>\n",
       "      <td>-13.2</td>\n",
       "      <td>52.87</td>\n",
       "      <td>1.0</td>\n",
       "      <td>230.0</td>\n",
       "      <td>100.0</td>\n",
       "      <td>2000.0</td>\n",
       "      <td>0</td>\n",
       "    </tr>\n",
       "    <tr>\n",
       "      <th>9</th>\n",
       "      <td>2019-01-02 03:00:00</td>\n",
       "      <td>41504.0</td>\n",
       "      <td>-4.5</td>\n",
       "      <td>-11.0</td>\n",
       "      <td>56.70</td>\n",
       "      <td>0.0</td>\n",
       "      <td>0.0</td>\n",
       "      <td>100.0</td>\n",
       "      <td>4000.0</td>\n",
       "      <td>0</td>\n",
       "    </tr>\n",
       "    <tr>\n",
       "      <th>11</th>\n",
       "      <td>2019-01-02 09:00:00</td>\n",
       "      <td>41504.0</td>\n",
       "      <td>5.0</td>\n",
       "      <td>-7.6</td>\n",
       "      <td>36.79</td>\n",
       "      <td>0.0</td>\n",
       "      <td>0.0</td>\n",
       "      <td>63.0</td>\n",
       "      <td>4000.0</td>\n",
       "      <td>0</td>\n",
       "    </tr>\n",
       "    <tr>\n",
       "      <th>12</th>\n",
       "      <td>2019-01-02 12:00:00</td>\n",
       "      <td>41504.0</td>\n",
       "      <td>2.0</td>\n",
       "      <td>-5.8</td>\n",
       "      <td>53.14</td>\n",
       "      <td>0.0</td>\n",
       "      <td>0.0</td>\n",
       "      <td>100.0</td>\n",
       "      <td>2000.0</td>\n",
       "      <td>0</td>\n",
       "    </tr>\n",
       "    <tr>\n",
       "      <th>13</th>\n",
       "      <td>2019-01-02 15:00:00</td>\n",
       "      <td>41504.0</td>\n",
       "      <td>0.0</td>\n",
       "      <td>-8.3</td>\n",
       "      <td>49.41</td>\n",
       "      <td>1.0</td>\n",
       "      <td>270.0</td>\n",
       "      <td>75.0</td>\n",
       "      <td>2000.0</td>\n",
       "      <td>0</td>\n",
       "    </tr>\n",
       "    <tr>\n",
       "      <th>14</th>\n",
       "      <td>2019-01-02 18:00:00</td>\n",
       "      <td>41504.0</td>\n",
       "      <td>-2.0</td>\n",
       "      <td>-7.6</td>\n",
       "      <td>62.00</td>\n",
       "      <td>2.1</td>\n",
       "      <td>270.0</td>\n",
       "      <td>63.0</td>\n",
       "      <td>2000.0</td>\n",
       "      <td>0</td>\n",
       "    </tr>\n",
       "    <tr>\n",
       "      <th>15</th>\n",
       "      <td>2019-01-02 21:00:00</td>\n",
       "      <td>41504.0</td>\n",
       "      <td>-4.0</td>\n",
       "      <td>-8.4</td>\n",
       "      <td>68.42</td>\n",
       "      <td>1.0</td>\n",
       "      <td>230.0</td>\n",
       "      <td>0.0</td>\n",
       "      <td>2000.0</td>\n",
       "      <td>0</td>\n",
       "    </tr>\n",
       "    <tr>\n",
       "      <th>16</th>\n",
       "      <td>2019-01-03 00:00:00</td>\n",
       "      <td>41504.0</td>\n",
       "      <td>-6.0</td>\n",
       "      <td>-9.1</td>\n",
       "      <td>76.33</td>\n",
       "      <td>0.0</td>\n",
       "      <td>0.0</td>\n",
       "      <td>25.0</td>\n",
       "      <td>2000.0</td>\n",
       "      <td>0</td>\n",
       "    </tr>\n",
       "    <tr>\n",
       "      <th>17</th>\n",
       "      <td>2019-01-03 03:00:00</td>\n",
       "      <td>41504.0</td>\n",
       "      <td>-4.5</td>\n",
       "      <td>-9.1</td>\n",
       "      <td>67.13</td>\n",
       "      <td>3.1</td>\n",
       "      <td>230.0</td>\n",
       "      <td>75.0</td>\n",
       "      <td>10000.0</td>\n",
       "      <td>0</td>\n",
       "    </tr>\n",
       "  </tbody>\n",
       "</table>\n",
       "</div>"
      ],
      "text/plain": [
       "                  TIME   STATNO  TEMP  DEWPOINT   RELHUMIDY  WINDSPEED  \\\n",
       "0  2019-01-01 00:00:00  41504.0  -8.0      -11.6      72.68        0.0   \n",
       "8  2019-01-02 00:00:00  41504.0  -6.0      -13.2      52.87        1.0   \n",
       "9  2019-01-02 03:00:00  41504.0  -4.5      -11.0      56.70        0.0   \n",
       "11 2019-01-02 09:00:00  41504.0   5.0       -7.6      36.79        0.0   \n",
       "12 2019-01-02 12:00:00  41504.0   2.0       -5.8      53.14        0.0   \n",
       "13 2019-01-02 15:00:00  41504.0   0.0       -8.3      49.41        1.0   \n",
       "14 2019-01-02 18:00:00  41504.0  -2.0       -7.6      62.00        2.1   \n",
       "15 2019-01-02 21:00:00  41504.0  -4.0       -8.4      68.42        1.0   \n",
       "16 2019-01-03 00:00:00  41504.0  -6.0       -9.1      76.33        0.0   \n",
       "17 2019-01-03 03:00:00  41504.0  -4.5       -9.1      67.13        3.1   \n",
       "\n",
       "    DIRECTION  TLTCLOUD   VISIBLITY  RAIN  \n",
       "0         0.0        0.0     2000.0     0  \n",
       "8       230.0      100.0     2000.0     0  \n",
       "9         0.0      100.0     4000.0     0  \n",
       "11        0.0       63.0     4000.0     0  \n",
       "12        0.0      100.0     2000.0     0  \n",
       "13      270.0       75.0     2000.0     0  \n",
       "14      270.0       63.0     2000.0     0  \n",
       "15      230.0        0.0     2000.0     0  \n",
       "16        0.0       25.0     2000.0     0  \n",
       "17      230.0       75.0    10000.0     0  "
      ]
     },
     "execution_count": 19,
     "metadata": {},
     "output_type": "execute_result"
    }
   ],
   "source": [
    "df2['RAIN'] = [1 if x >= 1.5 else 0 for x in df2['RAIN2']] \n",
    "df2.drop('RAIN2', axis = 1).head(10)"
   ]
  },
  {
   "cell_type": "code",
   "execution_count": 20,
   "metadata": {
    "hidden": true
   },
   "outputs": [
    {
     "data": {
      "text/html": [
       "<div>\n",
       "<style scoped>\n",
       "    .dataframe tbody tr th:only-of-type {\n",
       "        vertical-align: middle;\n",
       "    }\n",
       "\n",
       "    .dataframe tbody tr th {\n",
       "        vertical-align: top;\n",
       "    }\n",
       "\n",
       "    .dataframe thead th {\n",
       "        text-align: right;\n",
       "    }\n",
       "</style>\n",
       "<table border=\"1\" class=\"dataframe\">\n",
       "  <thead>\n",
       "    <tr style=\"text-align: right;\">\n",
       "      <th></th>\n",
       "      <th>TIME</th>\n",
       "      <th>RAIN2</th>\n",
       "      <th>STATNO</th>\n",
       "      <th>TEMP</th>\n",
       "      <th>DEWPOINT</th>\n",
       "      <th>RELHUMIDY</th>\n",
       "      <th>WINDSPEED</th>\n",
       "      <th>DIRECTION</th>\n",
       "      <th>TLTCLOUD</th>\n",
       "      <th>VISIBLITY</th>\n",
       "      <th>RAIN</th>\n",
       "    </tr>\n",
       "  </thead>\n",
       "  <tbody>\n",
       "    <tr>\n",
       "      <th>408</th>\n",
       "      <td>2019-02-21</td>\n",
       "      <td>2.0</td>\n",
       "      <td>41504.0</td>\n",
       "      <td>-3.5</td>\n",
       "      <td>-6.6</td>\n",
       "      <td>76.71</td>\n",
       "      <td>1.0</td>\n",
       "      <td>270.0</td>\n",
       "      <td>100.0</td>\n",
       "      <td>2000.0</td>\n",
       "      <td>1</td>\n",
       "    </tr>\n",
       "  </tbody>\n",
       "</table>\n",
       "</div>"
      ],
      "text/plain": [
       "          TIME  RAIN2   STATNO  TEMP  DEWPOINT   RELHUMIDY  WINDSPEED  \\\n",
       "408 2019-02-21    2.0  41504.0  -3.5       -6.6      76.71        1.0   \n",
       "\n",
       "     DIRECTION  TLTCLOUD   VISIBLITY  RAIN  \n",
       "408      270.0      100.0     2000.0     1  "
      ]
     },
     "execution_count": 20,
     "metadata": {},
     "output_type": "execute_result"
    }
   ],
   "source": [
    "df2[df2.RAIN == 1]"
   ]
  },
  {
   "cell_type": "markdown",
   "metadata": {
    "hidden": true
   },
   "source": [
    "This particular station is not very useful in predicting heavy rain since there is no heavy rain observation and many null rain values. We need to look for stations that are both efficient in recording the data and also recorded heavy rain in the past few months."
   ]
  },
  {
   "cell_type": "markdown",
   "metadata": {},
   "source": [
    "## Section 3\n",
    "Now, we need to decide which station data to use to create our model. The first thing is to look for stations that recorded heavy rainfalls and stations that after cleaning still contain a decent amount of information."
   ]
  },
  {
   "cell_type": "code",
   "execution_count": 172,
   "metadata": {},
   "outputs": [
    {
     "name": "stdout",
     "output_type": "stream",
     "text": [
      "../pmd_data\\OBS_n41504_hour.csv 342\n",
      "../pmd_data\\OBS_n41505_hour.csv 93\n",
      "../pmd_data\\OBS_n41506_hour.csv 1115\n",
      "../pmd_data\\OBS_n41507_hour.csv 585\n",
      "../pmd_data\\OBS_n41508_hour.csv 1144\n",
      "../pmd_data\\OBS_n41509_hour.csv 565\n",
      "../pmd_data\\OBS_n41510_hour.csv 440\n",
      "../pmd_data\\OBS_n41515_hour.csv 1180\n",
      "../pmd_data\\OBS_n41516_hour.csv 1007\n",
      "../pmd_data\\OBS_n41517_hour.csv 679\n",
      "../pmd_data\\OBS_n41518_hour.csv 1055\n",
      "../pmd_data\\OBS_n41519_hour.csv 1184\n",
      "../pmd_data\\OBS_n41520_hour.csv 1139\n",
      "../pmd_data\\OBS_n41523_hour.csv 964\n",
      "../pmd_data\\OBS_n41524_hour.csv 418\n",
      "../pmd_data\\OBS_n41525_hour.csv 318\n",
      "../pmd_data\\OBS_n41529_hour.csv 885\n",
      "../pmd_data\\OBS_n41533_hour.csv 149\n",
      "../pmd_data\\OBS_n41535_hour.csv 640\n",
      "../pmd_data\\OBS_n41536_hour.csv 821\n",
      "../pmd_data\\OBS_n41560_hour.csv 1149\n",
      "../pmd_data\\OBS_n41562_hour.csv 440\n",
      "../pmd_data\\OBS_n41564_hour.csv 20\n",
      "../pmd_data\\OBS_n41565_hour.csv 963\n",
      "../pmd_data\\OBS_n41571_hour.csv 153\n",
      "../pmd_data\\OBS_n41573_hour.csv 1178\n",
      "../pmd_data\\OBS_n41574_hour.csv 1092\n",
      "../pmd_data\\OBS_n41576_hour.csv 1186\n",
      "../pmd_data\\OBS_n41577_hour.csv 1049\n",
      "../pmd_data\\OBS_n41592_hour.csv 41\n",
      "../pmd_data\\OBS_n41593_hour.csv 1143\n",
      "../pmd_data\\OBS_n41594_hour.csv 202\n",
      "../pmd_data\\OBS_n41597_hour.csv 1175\n",
      "../pmd_data\\OBS_n41598_hour.csv 1192\n",
      "../pmd_data\\OBS_n41599_hour.csv 1150\n",
      "../pmd_data\\OBS_n41600_hour.csv 1097\n",
      "../pmd_data\\OBS_n41620_hour.csv 1084\n",
      "../pmd_data\\OBS_n41624_hour.csv 1184\n",
      "../pmd_data\\OBS_n41630_hour.csv 1210\n",
      "../pmd_data\\OBS_n41633_hour.csv 1211\n",
      "../pmd_data\\OBS_n41634_hour.csv 1106\n",
      "../pmd_data\\OBS_n41635_hour.csv 1199\n",
      "../pmd_data\\OBS_n41636_hour.csv 1185\n",
      "../pmd_data\\OBS_n41638_hour.csv 1198\n",
      "../pmd_data\\OBS_n41639_hour.csv 1209\n",
      "../pmd_data\\OBS_n41640_hour.csv 1160\n",
      "../pmd_data\\OBS_n41641_hour.csv 1174\n",
      "../pmd_data\\OBS_n41646_hour.csv 1173\n",
      "../pmd_data\\OBS_n41652_hour.csv 614\n",
      "../pmd_data\\OBS_n41660_hour.csv 223\n",
      "../pmd_data\\OBS_n41661_hour.csv 1021\n",
      "../pmd_data\\OBS_n41669_hour.csv 1213\n",
      "../pmd_data\\OBS_n41670_hour.csv 1051\n",
      "../pmd_data\\OBS_n41672_hour.csv 135\n",
      "../pmd_data\\OBS_n41675_hour.csv 1182\n",
      "../pmd_data\\OBS_n41676_hour.csv 1187\n",
      "../pmd_data\\OBS_n41678_hour.csv 1192\n",
      "../pmd_data\\OBS_n41679_hour.csv 1190\n",
      "../pmd_data\\OBS_n41685_hour.csv 1057\n",
      "../pmd_data\\OBS_n41696_hour.csv 853\n",
      "../pmd_data\\OBS_n41697_hour.csv 1100\n",
      "../pmd_data\\OBS_n41700_hour.csv 1224\n",
      "../pmd_data\\OBS_n41701_hour.csv 1200\n",
      "../pmd_data\\OBS_n41710_hour.csv 701\n",
      "../pmd_data\\OBS_n41712_hour.csv 520\n",
      "../pmd_data\\OBS_n41715_hour.csv 1128\n",
      "../pmd_data\\OBS_n41716_hour.csv 1210\n",
      "../pmd_data\\OBS_n41718_hour.csv 1266\n",
      "../pmd_data\\OBS_n41725_hour.csv 1072\n",
      "../pmd_data\\OBS_n41738_hour.csv 1119\n",
      "../pmd_data\\OBS_n41739_hour.csv 1097\n",
      "../pmd_data\\OBS_n41744_hour.csv 930\n",
      "../pmd_data\\OBS_n41745_hour.csv 480\n",
      "../pmd_data\\OBS_n41746_hour.csv 1053\n",
      "../pmd_data\\OBS_n41749_hour.csv 1135\n",
      "../pmd_data\\OBS_n41756_hour.csv 1115\n",
      "../pmd_data\\OBS_n41757_hour.csv 1014\n",
      "../pmd_data\\OBS_n41759_hour.csv 1123\n",
      "../pmd_data\\OBS_n41764_hour.csv 1080\n",
      "../pmd_data\\OBS_n41768_hour.csv 945\n",
      "../pmd_data\\OBS_n41780_hour.csv 1115\n",
      "../pmd_data\\OBS_n41781_hour.csv 102\n",
      "../pmd_data\\OBS_n41785_hour.csv 1112\n",
      "../pmd_data\\OBS_n43533_hour.csv 523\n"
     ]
    }
   ],
   "source": [
    "for f in glob.glob(\"../pmd_data/*hour.csv\"):\n",
    "    df_check = pd.read_csv(f)\n",
    "    df_check = clean_obs_before(df_check)\n",
    "    df_check = shift_rain(df_check)\n",
    "    clean_obs_after(df_check)\n",
    "    print(f, (df_check.RAIN == 1).sum())"
   ]
  },
  {
   "cell_type": "code",
   "execution_count": null,
   "metadata": {},
   "outputs": [],
   "source": []
  },
  {
   "cell_type": "markdown",
   "metadata": {},
   "source": [
    "Using our cut-off point to categorize rainfall, we filter out the stations that has very little rainfall. We also compared each station before and after shifting the rainfall observation to see how much data we lost by shifting and cleaning the data. It seems that the lost in information is negligible, as after shifting and cleaning we only lose a few rows of decent rainfall data. A few stations in particular has over 100 rows of \"decent rainfall\" observation, hence for the time being we will focus on these stations for our predicion."
   ]
  },
  {
   "cell_type": "markdown",
   "metadata": {},
   "source": [
    "## Section 4\n",
    "Building a predictive model by using logistic regression and random forest"
   ]
  },
  {
   "cell_type": "code",
   "execution_count": 174,
   "metadata": {},
   "outputs": [],
   "source": [
    "df_41518 = pd.read_csv('../pmd_data/OBS_n41518_hour.csv')\n",
    "df_41518 = clean_obs_before(df_41518)\n",
    "df_41518 = shift_rain(df_41518)\n",
    "clean_obs_after(df_41518)"
   ]
  },
  {
   "cell_type": "code",
   "execution_count": 175,
   "metadata": {},
   "outputs": [
    {
     "data": {
      "text/plain": [
       "TIME           0\n",
       "RAIN2        150\n",
       "TEMP           0\n",
       "DEWPOINT       0\n",
       "RELHUMIDY      0\n",
       "WINDSPEED      0\n",
       "DIRECTION      0\n",
       "TLTCLOUD       0\n",
       "VISIBLITY      0\n",
       "RAIN           0\n",
       "dtype: int64"
      ]
     },
     "execution_count": 175,
     "metadata": {},
     "output_type": "execute_result"
    }
   ],
   "source": [
    "df_41518.isnull().sum()"
   ]
  },
  {
   "cell_type": "code",
   "execution_count": 152,
   "metadata": {},
   "outputs": [],
   "source": [
    "df_41508.dropna(axis=0, subset=['DEWPOINT'], inplace = True)"
   ]
  },
  {
   "cell_type": "code",
   "execution_count": 171,
   "metadata": {},
   "outputs": [
    {
     "data": {
      "text/plain": [
       "Text(0, 0.5, '')"
      ]
     },
     "execution_count": 171,
     "metadata": {},
     "output_type": "execute_result"
    },
    {
     "data": {
      "image/png": "[encoded data removed]",
      "text/plain": [
       "<Figure size 432x288 with 1 Axes>"
      ]
     },
     "metadata": {},
     "output_type": "display_data"
    }
   ],
   "source": [
    "seaborn.set()\n",
    "df_41518.plot(x='TIME', y='RAIN2', style='.')\n",
    "plt.ylabel(\"\")\n"
   ]
  },
  {
   "cell_type": "code",
   "execution_count": 177,
   "metadata": {},
   "outputs": [],
   "source": [
    "train = df_41518[df_41518.TIME.dt.month != 6]\n",
    "x_train = train.drop(['RAIN2','RAIN'], axis = 1)\n",
    "y_train = train['RAIN']\n",
    "\n",
    "test = df_41518[df_41518.TIME.dt.month == 6]\n",
    "x_test = test.drop(['RAIN2','RAIN'], axis = 1)\n",
    "y_test = test['RAIN']"
   ]
  },
  {
   "cell_type": "code",
   "execution_count": 178,
   "metadata": {},
   "outputs": [],
   "source": [
    "def split_time(df):\n",
    "    df['YEAR'] = pd.to_datetime(df.TIME).dt.year\n",
    "    df['MONTH'] = pd.to_datetime(df.TIME).dt.month\n",
    "    df['DAY'] = pd.to_datetime(df.TIME).dt.day\n",
    "    df['HOUR'] = pd.to_datetime(df.TIME).dt.hour\n",
    "    df.drop(['TIME'], axis = 1, inplace = True)\n",
    "    return df\n",
    "\n",
    "x_train = split_time(x_train)\n",
    "x_test = split_time(x_test)"
   ]
  },
  {
   "cell_type": "code",
   "execution_count": 179,
   "metadata": {},
   "outputs": [
    {
     "name": "stdout",
     "output_type": "stream",
     "text": [
      "(1068, 11) (1068,) (137, 11) (137,)\n"
     ]
    }
   ],
   "source": [
    "print(x_train.shape, y_train.shape, x_test.shape, y_test.shape)"
   ]
  },
  {
   "cell_type": "code",
   "execution_count": 180,
   "metadata": {},
   "outputs": [
    {
     "data": {
      "text/plain": [
       "RandomForestClassifier(bootstrap=True, class_weight=None, criterion='gini',\n",
       "            max_depth=None, max_features='auto', max_leaf_nodes=None,\n",
       "            min_impurity_decrease=0.0, min_impurity_split=None,\n",
       "            min_samples_leaf=1, min_samples_split=2,\n",
       "            min_weight_fraction_leaf=0.0, n_estimators=1000, n_jobs=None,\n",
       "            oob_score=False, random_state=42, verbose=0, warm_start=False)"
      ]
     },
     "execution_count": 180,
     "metadata": {},
     "output_type": "execute_result"
    }
   ],
   "source": [
    "# Import the model we are using\n",
    "from sklearn.ensemble import RandomForestClassifier\n",
    "# Instantiate model with 1000 decision trees\n",
    "rf = RandomForestClassifier(n_estimators = 1000, random_state = 42)\n",
    "# Train the model on training data\n",
    "rf.fit(x_train, y_train)"
   ]
  },
  {
   "cell_type": "code",
   "execution_count": 182,
   "metadata": {},
   "outputs": [
    {
     "name": "stdout",
     "output_type": "stream",
     "text": [
      "0.8540145985401459\n",
      "[[  1  19]\n",
      " [  1 116]]\n"
     ]
    }
   ],
   "source": [
    "from sklearn.metrics import accuracy_score,recall_score,confusion_matrix\n",
    "\n",
    "# Use the forest's predict method on the test data\n",
    "y_pred = rf.predict(x_test)\n",
    "\n",
    "print(accuracy_score(y_test,y_pred))\n",
    "# print(recall_score(y_test,y_pred))\n",
    "print(confusion_matrix(y_test,y_pred))\n",
    "\n",
    "# # Calculate the absolute errors\n",
    "# errors = abs(predictions - y_test)\n",
    "# # # Print out the mean absolute error (mae)\n",
    "# print('Mean Absolute Error:', round(np.mean(errors), 2), 'degrees.')"
   ]
  },
  {
   "cell_type": "code",
   "execution_count": 183,
   "metadata": {},
   "outputs": [
    {
     "data": {
      "text/plain": [
       "117"
      ]
     },
     "execution_count": 183,
     "metadata": {},
     "output_type": "execute_result"
    }
   ],
   "source": [
    "(y_test == 1).sum()"
   ]
  }
 ],
 "metadata": {
  "kernelspec": {
   "display_name": "Python 3",
   "language": "python",
   "name": "python3"
  },
  "language_info": {
   "codemirror_mode": {
    "name": "ipython",
    "version": 3
   },
   "file_extension": ".py",
   "mimetype": "text/x-python",
   "name": "python",
   "nbconvert_exporter": "python",
   "pygments_lexer": "ipython3",
   "version": "3.7.3"
  },
  "latex_envs": {
   "LaTeX_envs_menu_present": true,
   "autoclose": false,
   "autocomplete": true,
   "bibliofile": "biblio.bib",
   "cite_by": "apalike",
   "current_citInitial": 1,
   "eqLabelWithNumbers": true,
   "eqNumInitial": 1,
   "hotkeys": {
    "equation": "Ctrl-E",
    "itemize": "Ctrl-I"
   },
   "labels_anchors": false,
   "latex_user_defs": false,
   "report_style_numbering": false,
   "user_envs_cfg": false
  },
  "toc": {
   "base_numbering": 1,
   "nav_menu": {},
   "number_sections": false,
   "sideBar": true,
   "skip_h1_title": false,
   "title_cell": "Table of Contents",
   "title_sidebar": "Contents",
   "toc_cell": false,
   "toc_position": {
    "height": "542.4px",
    "left": "1031px",
    "top": "297.8px",
    "width": "165px"
   },
   "toc_section_display": true,
   "toc_window_display": true
  },
  "varInspector": {
   "cols": {
    "lenName": 16,
    "lenType": 16,
    "lenVar": 40
   },
   "kernels_config": {
    "python": {
     "delete_cmd_postfix": "",
     "delete_cmd_prefix": "del ",
     "library": "var_list.py",
     "varRefreshCmd": "print(var_dic_list())"
    },
    "r": {
     "delete_cmd_postfix": ") ",
     "delete_cmd_prefix": "rm(",
     "library": "var_list.r",
     "varRefreshCmd": "cat(var_dic_list()) "
    }
   },
   "oldHeight": 387.79999999999995,
   "position": {
    "height": "409.4px",
    "left": "1166px",
    "right": "20px",
    "top": "120px",
    "width": "350px"
   },
   "types_to_exclude": [
    "module",
    "function",
    "builtin_function_or_method",
    "instance",
    "_Feature"
   ],
   "varInspector_section_display": "block",
   "window_display": false
  }
 },
 "nbformat": 4,
 "nbformat_minor": 2
}
