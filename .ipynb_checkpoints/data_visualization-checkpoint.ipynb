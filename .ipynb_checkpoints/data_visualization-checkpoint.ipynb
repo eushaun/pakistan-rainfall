{
 "cells": [
  {
   "cell_type": "code",
   "execution_count": 3,
   "metadata": {},
   "outputs": [],
   "source": [
    "import numpy as np\n",
    "import pandas as pd\n",
    "import shapefile as shp\n",
    "import matplotlib.pyplot as plt\n",
    "import seaborn as sns"
   ]
  },
  {
   "cell_type": "code",
   "execution_count": null,
   "metadata": {},
   "outputs": [],
   "source": [
    "# convert station data into csv file\n",
    "station = pd.read_csv('../pmd_data/Operational-WMO-sites-dictionary.dat', header=None,\n",
    "                      sep=' ', encoding='unicode_escape')\n",
    "station.columns = ['STATNO', 'LAT', 'LONG', 'ABVSEALVL', 'STATNAME', 'etc']\n",
    "station = station.drop(['etc'], axis=1)\n",
    "station.to_csv('station_codes.csv', index=False)\n",
    "station.head(20)"
   ]
  },
  {
   "cell_type": "code",
   "execution_count": 10,
   "metadata": {},
   "outputs": [
    {
     "data": {
      "text/html": [
       "<div>\n",
       "<style scoped>\n",
       "    .dataframe tbody tr th:only-of-type {\n",
       "        vertical-align: middle;\n",
       "    }\n",
       "\n",
       "    .dataframe tbody tr th {\n",
       "        vertical-align: top;\n",
       "    }\n",
       "\n",
       "    .dataframe thead th {\n",
       "        text-align: right;\n",
       "    }\n",
       "</style>\n",
       "<table border=\"1\" class=\"dataframe\">\n",
       "  <thead>\n",
       "    <tr style=\"text-align: right;\">\n",
       "      <th></th>\n",
       "      <th>STATNO</th>\n",
       "      <th>LAT</th>\n",
       "      <th>LONG</th>\n",
       "      <th>ABVSEALVL</th>\n",
       "      <th>STATNAME</th>\n",
       "    </tr>\n",
       "  </thead>\n",
       "  <tbody>\n",
       "    <tr>\n",
       "      <th>0</th>\n",
       "      <td>41504</td>\n",
       "      <td>73.40</td>\n",
       "      <td>35.17</td>\n",
       "      <td>2156.0</td>\n",
       "      <td>Gupis</td>\n",
       "    </tr>\n",
       "    <tr>\n",
       "      <th>1</th>\n",
       "      <td>41505</td>\n",
       "      <td>74.65</td>\n",
       "      <td>36.17</td>\n",
       "      <td>2374.0</td>\n",
       "      <td>Hunza</td>\n",
       "    </tr>\n",
       "    <tr>\n",
       "      <th>2</th>\n",
       "      <td>41506</td>\n",
       "      <td>71.83</td>\n",
       "      <td>35.85</td>\n",
       "      <td>1497.8</td>\n",
       "      <td>Chitral</td>\n",
       "    </tr>\n",
       "    <tr>\n",
       "      <th>3</th>\n",
       "      <td>41507</td>\n",
       "      <td>71.82</td>\n",
       "      <td>34.83</td>\n",
       "      <td>786.0</td>\n",
       "      <td>Timergara M.O.</td>\n",
       "    </tr>\n",
       "    <tr>\n",
       "      <th>4</th>\n",
       "      <td>41508</td>\n",
       "      <td>71.85</td>\n",
       "      <td>35.20</td>\n",
       "      <td>1375.0</td>\n",
       "      <td>Dir</td>\n",
       "    </tr>\n",
       "  </tbody>\n",
       "</table>\n",
       "</div>"
      ],
      "text/plain": [
       "   STATNO    LAT   LONG  ABVSEALVL                 STATNAME\n",
       "0   41504  73.40  35.17     2156.0  Gupis                  \n",
       "1   41505  74.65  36.17     2374.0  Hunza                  \n",
       "2   41506  71.83  35.85     1497.8  Chitral                \n",
       "3   41507  71.82  34.83      786.0  Timergara M.O.         \n",
       "4   41508  71.85  35.20     1375.0  Dir                    "
      ]
     },
     "execution_count": 10,
     "metadata": {},
     "output_type": "execute_result"
    }
   ],
   "source": [
    "station = pd.read_csv('../station_codes.csv')\n",
    "station.head()"
   ]
  },
  {
   "cell_type": "code",
   "execution_count": 12,
   "metadata": {
    "scrolled": true
   },
   "outputs": [
    {
     "data": {
      "text/plain": [
       "<matplotlib.axes._subplots.AxesSubplot at 0x18f33ebaeb8>"
      ]
     },
     "execution_count": 12,
     "metadata": {},
     "output_type": "execute_result"
    },
    {
     "data": {
      "image/png": "[encoded data removed]",
      "text/plain": [
       "<Figure size 720x432 with 1 Axes>"
      ]
     },
     "metadata": {
      "needs_background": "light"
     },
     "output_type": "display_data"
    }
   ],
   "source": [
    "## simple visualization of the station's location\n",
    "\n",
    "from shapely.geometry import Point\n",
    "import geopandas as gpd\n",
    "from geopandas import GeoDataFrame\n",
    "\n",
    "geometry = [Point(xy) for xy in zip(station['LAT'], station['LONG'])]\n",
    "gdf = GeoDataFrame(station, geometry=geometry)   \n",
    "\n",
    "#this is a simple map that goes with geopandas\n",
    "world = gpd.read_file('../pakistan_map/pakistan.shp')\n",
    "gdf.plot(ax=world.plot(figsize=(10, 6)), marker='o', color='red', markersize=5)"
   ]
  },
  {
   "cell_type": "code",
   "execution_count": 20,
   "metadata": {},
   "outputs": [],
   "source": [
    "sns.set(style=\"whitegrid\", palette=\"pastel\", color_codes=True) \n",
    "sns.mpl.rc(\"figure\", figsize=(10,6))"
   ]
  },
  {
   "cell_type": "code",
   "execution_count": 22,
   "metadata": {},
   "outputs": [
    {
     "data": {
      "text/plain": [
       "[Record #0: [1, 'Azad Kashmir', 3.0, 9.58697510689, 1.1483207819, 1, 1, 0],\n",
       " Record #1: [2, 'Balochistan', 7.0, 41.4502162949, 31.9103674042, 2, 2, 0],\n",
       " Record #2: [3, 'Disputed Territory', 0.0, 21.3975975413, 10.1323198774, 3, 3, 0],\n",
       " Record #3: [4, 'Fata', 4.0, 16.710348243, 2.59638479624, 4, 4, 100],\n",
       " Record #4: [5, 'Federal Capital Territory', 5.0, 1.65922156148, 0.0872848955564, 5, 5, 0],\n",
       " Record #5: [6, 'Gilgit Baltistan', 1.0, 15.9467317987, 6.96131317316, 6, 6, 0],\n",
       " Record #6: [7, 'Khyber Pakhtunkhwa', 2.0, 27.2386097764, 7.30480121735, 7, 7, 0],\n",
       " Record #7: [8, 'Punjab', 6.0, 27.4084524011, 19.3623861001, 8, 8, 0],\n",
       " Record #8: [9, 'Sindh', 8.0, 30.1813025157, 12.7251401534, 9, 9, 0]]"
      ]
     },
     "execution_count": 22,
     "metadata": {},
     "output_type": "execute_result"
    }
   ],
   "source": [
    "sf = shp.Reader('../pakistan_map/pakistan.shp')\n",
    "sf.records()"
   ]
  }
 ],
 "metadata": {
  "kernelspec": {
   "display_name": "Python 3",
   "language": "python",
   "name": "python3"
  },
  "language_info": {
   "codemirror_mode": {
    "name": "ipython",
    "version": 3
   },
   "file_extension": ".py",
   "mimetype": "text/x-python",
   "name": "python",
   "nbconvert_exporter": "python",
   "pygments_lexer": "ipython3",
   "version": "3.7.3"
  },
  "toc": {
   "base_numbering": 1,
   "nav_menu": {},
   "number_sections": true,
   "sideBar": true,
   "skip_h1_title": false,
   "title_cell": "Table of Contents",
   "title_sidebar": "Contents",
   "toc_cell": false,
   "toc_position": {},
   "toc_section_display": true,
   "toc_window_display": false
  }
 },
 "nbformat": 4,
 "nbformat_minor": 2
}
